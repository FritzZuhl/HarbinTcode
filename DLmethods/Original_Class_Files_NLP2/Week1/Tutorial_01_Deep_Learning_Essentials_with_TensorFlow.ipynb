{
 "cells": [
  {
   "cell_type": "markdown",
   "metadata": {
    "id": "NK17jDajxai2"
   },
   "source": [
    "# Deep Learning Essentials with ``TensorFlow``\n",
    "\n",
    "Gain a high-level understanding of essentials of deep neural networks. Learn about some essential components of neural networks like layers, loss functions, activations, etc.\n",
    "\n",
    "In this notebook, we will cover:\n",
    "\n",
    "+ Tensors and Operations\n",
    "+ Building Deep Neural Network for a sample dataset to perform linear regression\n",
    "+ Learn about Sequential, Functional and SubClass APIs from ``tensorflow.keras``\n",
    "+ Learn about different activation functions\n",
    "+ Learn about gradient descent and autodiff with Gradient Tape (backpropagation principles)\n",
    "+ Build an DNN image classifier using tensorflow\n",
    "+ Learn about Batch Normalization and Dropout Layers\n"
   ]
  },
  {
   "cell_type": "code",
   "execution_count": 1,
   "metadata": {
    "id": "RMZPtOrao8id"
   },
   "outputs": [
    {
     "ename": "ModuleNotFoundError",
     "evalue": "No module named 'tensorflow'",
     "output_type": "error",
     "traceback": [
      "\u001b[0;31m---------------------------------------------------------------------------\u001b[0m",
      "\u001b[0;31mModuleNotFoundError\u001b[0m                       Traceback (most recent call last)",
      "\u001b[0;32m<ipython-input-1-14e9dea9c794>\u001b[0m in \u001b[0;36m<module>\u001b[0;34m\u001b[0m\n\u001b[1;32m      3\u001b[0m \u001b[0;32mimport\u001b[0m \u001b[0mnumpy\u001b[0m \u001b[0;32mas\u001b[0m \u001b[0mnp\u001b[0m\u001b[0;34m\u001b[0m\u001b[0;34m\u001b[0m\u001b[0m\n\u001b[1;32m      4\u001b[0m \u001b[0;32mimport\u001b[0m \u001b[0msklearn\u001b[0m\u001b[0;34m\u001b[0m\u001b[0;34m\u001b[0m\u001b[0m\n\u001b[0;32m----> 5\u001b[0;31m \u001b[0;32mimport\u001b[0m \u001b[0mtensorflow\u001b[0m \u001b[0;32mas\u001b[0m \u001b[0mtf\u001b[0m\u001b[0;34m\u001b[0m\u001b[0;34m\u001b[0m\u001b[0m\n\u001b[0m",
      "\u001b[0;31mModuleNotFoundError\u001b[0m: No module named 'tensorflow'"
     ]
    }
   ],
   "source": [
    "import matplotlib.pyplot as plt\n",
    "import pandas as pd\n",
    "import numpy as np\n",
    "import sklearn\n",
    "import tensorflow as tf"
   ]
  },
  {
   "cell_type": "code",
   "execution_count": null,
   "metadata": {
    "colab": {
     "base_uri": "https://localhost:8080/"
    },
    "id": "t7AELaEipKlp",
    "outputId": "bf8107e5-8595-4d87-9db2-94337cf6c6aa"
   },
   "outputs": [],
   "source": [
    "print(tf.__version__)"
   ]
  },
  {
   "cell_type": "markdown",
   "metadata": {
    "id": "LqgErnOppRjd"
   },
   "source": [
    "## Tensors and Ops\n",
    "\n",
    "Tensors are multi-dimensional arrays with a uniform type (called a ``dtype``). You can see all supported dtypes at ``tf.dtypes.DType``. If you're familiar with ``numpy``, tensors are (kind of) like ``np.arrays``.\n",
    "\n",
    "All tensors are immutable like Python numbers and strings: you can never update the contents of a tensor, only create a new one.\n",
    "\n"
   ]
  },
  {
   "cell_type": "markdown",
   "metadata": {
    "id": "SKGybM1ypb7h"
   },
   "source": [
    "### Constants as Tensors\n",
    "\n",
    "The name ``tf.constant`` comes from the value being embeded in a _Const_ node in the ``tf.Graph``. ``tf.constant`` is useful for asserting that the value can be embedded that way."
   ]
  },
  {
   "cell_type": "code",
   "execution_count": null,
   "metadata": {
    "colab": {
     "base_uri": "https://localhost:8080/"
    },
    "id": "qGr0wp9YpKjM",
    "outputId": "fdb76344-c52c-4721-8fa9-55c6bb29cff7"
   },
   "outputs": [],
   "source": [
    "t = tf.constant([[1., 2., 3.], \n",
    "                 [4., 5., 6.]])\n",
    "t"
   ]
  },
  {
   "cell_type": "code",
   "execution_count": null,
   "metadata": {
    "colab": {
     "base_uri": "https://localhost:8080/"
    },
    "id": "nstiGS-6pKgo",
    "outputId": "22d238fe-8373-4155-b572-06c9ba19d981"
   },
   "outputs": [],
   "source": [
    "# data type\n",
    "t.dtype"
   ]
  },
  {
   "cell_type": "code",
   "execution_count": null,
   "metadata": {
    "colab": {
     "base_uri": "https://localhost:8080/"
    },
    "id": "99-gg3GepKeR",
    "outputId": "6fbd133c-9158-4ab1-d639-1dc495b60214"
   },
   "outputs": [],
   "source": [
    "# shape\n",
    "t.shape"
   ]
  },
  {
   "cell_type": "markdown",
   "metadata": {
    "id": "5q9xn_aEpeS4"
   },
   "source": [
    "### Variables as Tensors\n",
    "\n",
    "A TensorFlow variable is the recommended way to represent shared, persistent state your program manipulates. This guide covers how to create, update, and manage instances of ``tf.Variable`` in TensorFlow.\n",
    "\n",
    "Variables are created and tracked via the ``tf.Variable`` class. A ``tf.Variable`` represents a tensor whose value can be changed by running ops on it. Specific ops allow you to read and modify the values of this tensor. Higher level libraries like ``tf.keras`` use ``tf.Variable`` to store model parameters."
   ]
  },
  {
   "cell_type": "code",
   "execution_count": null,
   "metadata": {
    "colab": {
     "base_uri": "https://localhost:8080/"
    },
    "id": "DUoPtBQXpKb9",
    "outputId": "bc63856d-90aa-4e36-abdf-66676806c84a"
   },
   "outputs": [],
   "source": [
    "t = tf.Variable([[1., 2., 3.], [4., 5., 6.]])\n",
    "t"
   ]
  },
  {
   "cell_type": "code",
   "execution_count": null,
   "metadata": {
    "colab": {
     "base_uri": "https://localhost:8080/"
    },
    "id": "hcHVGGM6plQn",
    "outputId": "dddf026e-cd17-4014-ab9c-6db5a1cc473e"
   },
   "outputs": [],
   "source": [
    "# convert to numpy\n",
    "t.numpy()"
   ]
  },
  {
   "cell_type": "code",
   "execution_count": null,
   "metadata": {
    "colab": {
     "base_uri": "https://localhost:8080/"
    },
    "id": "QnS7IkQhplOO",
    "outputId": "3e94d369-e711-4d24-bfb5-58a23c1a5c5d"
   },
   "outputs": [],
   "source": [
    "# assign value to tensor\n",
    "t[0,0].assign(99)\n",
    "t"
   ]
  },
  {
   "cell_type": "code",
   "execution_count": null,
   "metadata": {
    "colab": {
     "base_uri": "https://localhost:8080/",
     "height": 178
    },
    "id": "-spPGM-bplLy",
    "outputId": "0526310f-e382-4220-9eb9-52c5571f4833"
   },
   "outputs": [],
   "source": [
    "# incorrect method\n",
    "t[1] = [10, 20, 30]"
   ]
  },
  {
   "cell_type": "code",
   "execution_count": null,
   "metadata": {
    "colab": {
     "base_uri": "https://localhost:8080/"
    },
    "id": "B76NrBSvp8vi",
    "outputId": "2d8ebab0-d234-451c-b335-26ef76c8daeb"
   },
   "outputs": [],
   "source": [
    "# correct method\n",
    "t[1].assign([10, 20, 30])"
   ]
  },
  {
   "cell_type": "markdown",
   "metadata": {
    "id": "VToe9D1UqEHV"
   },
   "source": [
    "### Indexing\n",
    "\n",
    "Indexing of tensors is similar to ``numpy``. The following examples showcase typical ways of indexing a tensor"
   ]
  },
  {
   "cell_type": "code",
   "execution_count": null,
   "metadata": {
    "colab": {
     "base_uri": "https://localhost:8080/"
    },
    "id": "wwK65lNiqDrj",
    "outputId": "7523c37c-b292-4b55-d4a4-a09d9897037f"
   },
   "outputs": [],
   "source": [
    "t[1:, :]"
   ]
  },
  {
   "cell_type": "code",
   "execution_count": null,
   "metadata": {
    "colab": {
     "base_uri": "https://localhost:8080/"
    },
    "id": "eFpXtSiBqDpS",
    "outputId": "41e12351-ce03-4b10-a02f-7e79d7dc323e"
   },
   "outputs": [],
   "source": [
    "t[1:, ...]"
   ]
  },
  {
   "cell_type": "code",
   "execution_count": null,
   "metadata": {
    "colab": {
     "base_uri": "https://localhost:8080/"
    },
    "id": "uAsoWSqmqDmm",
    "outputId": "4657ea8d-3216-481c-9c57-5dda770d7c96"
   },
   "outputs": [],
   "source": [
    "t[..., 1:]"
   ]
  },
  {
   "cell_type": "markdown",
   "metadata": {
    "id": "cPyJqKo5qM1d"
   },
   "source": [
    "### Basic Ops\n",
    "\n",
    "TensorFlow tensors support all typical mathematical operations. They also support a number of inbuilt functions/utilities like square, transpose, etc."
   ]
  },
  {
   "cell_type": "code",
   "execution_count": null,
   "metadata": {
    "colab": {
     "base_uri": "https://localhost:8080/"
    },
    "id": "D6RgNqgZqOhn",
    "outputId": "9e7e5390-4d13-49a2-e0ad-2874deb00f74"
   },
   "outputs": [],
   "source": [
    "# addition\n",
    "t = t + 10\n",
    "t"
   ]
  },
  {
   "cell_type": "code",
   "execution_count": null,
   "metadata": {
    "colab": {
     "base_uri": "https://localhost:8080/"
    },
    "id": "5nuxl5aGqVDU",
    "outputId": "dce1fc2a-6777-4b91-b08e-68fe61286d00"
   },
   "outputs": [],
   "source": [
    "# inbuilt utils\n",
    "tf.square(t)"
   ]
  },
  {
   "cell_type": "code",
   "execution_count": null,
   "metadata": {
    "colab": {
     "base_uri": "https://localhost:8080/"
    },
    "id": "kpW0m7y3qVBC",
    "outputId": "865de4c6-fc20-4417-8fcb-78384fea8b51"
   },
   "outputs": [],
   "source": [
    "# inbuilt utils\n",
    "t @ tf.transpose(t)"
   ]
  },
  {
   "cell_type": "markdown",
   "metadata": {
    "id": "XzSf4K5FsP0i"
   },
   "source": [
    "## Linear Regression using ``sklearn``\n",
    "\n",
    "Before we start developing deep neural networks, let us build a baseline using ``sklearn``.\n",
    "\n",
    "We will use the sample __california housing__ dataset available as part of ``sklearn.datasets`` API itself. The datasets contains a number of attributes per listing (like Median Income, House Age, Average number of rooms, etc) and the aim is to predict the price of the house.\n",
    "\n",
    "We will build a simple linear regression model for this given task"
   ]
  },
  {
   "cell_type": "code",
   "execution_count": null,
   "metadata": {
    "id": "OdJycLPLqU-d"
   },
   "outputs": [],
   "source": [
    "from sklearn.datasets import fetch_california_housing\n",
    "from sklearn.model_selection import train_test_split\n",
    "from sklearn.preprocessing import StandardScaler\n",
    "from sklearn.linear_model import LinearRegression\n",
    "from sklearn.metrics import r2_score, mean_squared_error"
   ]
  },
  {
   "cell_type": "code",
   "execution_count": null,
   "metadata": {
    "colab": {
     "base_uri": "https://localhost:8080/"
    },
    "id": "_txPgCE1stNN",
    "outputId": "671378e3-ce3c-492b-8fc0-f5995ed29825"
   },
   "outputs": [],
   "source": [
    "housing = fetch_california_housing()"
   ]
  },
  {
   "cell_type": "code",
   "execution_count": null,
   "metadata": {
    "colab": {
     "base_uri": "https://localhost:8080/",
     "height": 195
    },
    "id": "DufEnjDMsbic",
    "outputId": "e24b903d-bbf3-4631-bd37-3d503cef6dcd"
   },
   "outputs": [],
   "source": [
    "X = pd.DataFrame(housing['data'], columns=housing['feature_names'])\n",
    "X.head()"
   ]
  },
  {
   "cell_type": "code",
   "execution_count": null,
   "metadata": {
    "colab": {
     "base_uri": "https://localhost:8080/",
     "height": 195
    },
    "id": "G0L-NuY-sbf1",
    "outputId": "e5090a62-48dc-4562-b0a0-69119f535acb"
   },
   "outputs": [],
   "source": [
    "y = pd.DataFrame({'price': housing['target']})\n",
    "y.head()"
   ]
  },
  {
   "cell_type": "code",
   "execution_count": null,
   "metadata": {
    "colab": {
     "base_uri": "https://localhost:8080/"
    },
    "id": "X41kNj-osbdo",
    "outputId": "73a54a3b-901c-40bb-e4ca-5449ed678690"
   },
   "outputs": [],
   "source": [
    "# train test split\n",
    "X_train, X_test, y_train, y_test = train_test_split(X, y, test_size=0.3, random_state=42)\n",
    "X_train.shape, X_test.shape"
   ]
  },
  {
   "cell_type": "code",
   "execution_count": null,
   "metadata": {
    "id": "07N0c1JrsbbI"
   },
   "outputs": [],
   "source": [
    "# scale features\n",
    "scaler = StandardScaler()\n",
    "X_train_scaled = scaler.fit_transform(X_train)\n",
    "X_test_scaled = scaler.transform(X_test)"
   ]
  },
  {
   "cell_type": "code",
   "execution_count": null,
   "metadata": {
    "colab": {
     "base_uri": "https://localhost:8080/"
    },
    "id": "nfkb6qFdsotz",
    "outputId": "a68c9392-bb9c-4242-a6ca-247433e065cf"
   },
   "outputs": [],
   "source": [
    "# fit model\n",
    "lr = LinearRegression()\n",
    "lr.fit(X_train_scaled, y_train)"
   ]
  },
  {
   "cell_type": "code",
   "execution_count": null,
   "metadata": {
    "colab": {
     "base_uri": "https://localhost:8080/"
    },
    "id": "lOQDwix8sorm",
    "outputId": "d1a765c3-6d43-4301-deaf-064836aeb030"
   },
   "outputs": [],
   "source": [
    "# evaluate model\n",
    "predictions = lr.predict(X_test_scaled)\n",
    "print('R2:', r2_score(y_test, predictions))\n",
    "print('MSE:', mean_squared_error(y_test, predictions))"
   ]
  },
  {
   "cell_type": "markdown",
   "metadata": {
    "id": "EyBK4slStShS"
   },
   "source": [
    "## TF Sequential API: Create a Simple 1-layer NN\n",
    "\n",
    "A Sequential model is appropriate for a plain stack of layers where each layer has exactly one input tensor and one output tensor.\n",
    "\n",
    "TensorFlow provides the high level API Sequential through ``tensorflow.keras`` to develop models. In this setting:\n",
    "\n",
    "+ We can pass different layers (``tf.keras.layers``) in the form of a list of the ``tf.keras.models.Sequential`` class.\n",
    "+ We can also use the ``add()`` method of the instantiated object of the ``tf.keras.models.Sequential`` class\n",
    "\n",
    "\n",
    "\n",
    "In this section, we will build a neural network based regression model to predict housing prices. We will reuse the train-test split from the ``sklearn`` exercise for consitentcy."
   ]
  },
  {
   "cell_type": "code",
   "execution_count": null,
   "metadata": {
    "id": "BtA8-e4xsomm"
   },
   "outputs": [],
   "source": [
    "# define the model\n",
    "model = tf.keras.models.Sequential([\n",
    "    tf.keras.layers.Dense(16, activation=\"relu\", \n",
    "                          input_shape=(X_train.shape[1],)),\n",
    "    tf.keras.layers.Dense(1),\n",
    "])"
   ]
  },
  {
   "cell_type": "markdown",
   "metadata": {
    "id": "gRqM2qdks9Uz"
   },
   "source": [
    "### TF: Creating custom loss functions\n",
    "\n",
    "TensorFlow provides a long list of popularly used loss functions such as __mean_squared_error__ but also provides an easy way to develop some of our own. Let us try to recreate mean squared error on our own here.\n",
    "\n",
    "Create a ``mse_loss(...)`` function with two arguments:\n",
    "\n",
    "+ the true labels ``y_true``\n",
    "+ the model predictions ``y_pred``\n",
    "\n",
    "Make it return the mean squared error using TensorFlow operations. Note that you could write your own custom metrics in this way.\n",
    "\n",
    "__Tip__: Recall that the MSE is the mean of the squares of prediction errors, which are the differences between the predictions and the labels, so you will need to use ``tf.reduce_mean()`` and ``tf.square()`` ops."
   ]
  },
  {
   "cell_type": "code",
   "execution_count": null,
   "metadata": {
    "id": "Jt89VSqTsoo_"
   },
   "outputs": [],
   "source": [
    "def mse_loss(y_true, y_pred):\n",
    "    return tf.reduce_mean(tf.square(y_pred - y_true))"
   ]
  },
  {
   "cell_type": "code",
   "execution_count": null,
   "metadata": {
    "id": "jpC2TYGisokL"
   },
   "outputs": [],
   "source": [
    "# compile the model\n",
    "model.compile(loss=mse_loss, \n",
    "              optimizer=tf.keras.optimizers.SGD(lr=1e-3),\n",
    "              metrics=['mean_squared_error'])"
   ]
  },
  {
   "cell_type": "code",
   "execution_count": null,
   "metadata": {
    "colab": {
     "base_uri": "https://localhost:8080/"
    },
    "id": "uy9j43L3sohc",
    "outputId": "2acd97a1-5517-4817-ad71-9a0639be6c43"
   },
   "outputs": [],
   "source": [
    "# get model summary\n",
    "model.summary()"
   ]
  },
  {
   "cell_type": "code",
   "execution_count": null,
   "metadata": {
    "colab": {
     "base_uri": "https://localhost:8080/"
    },
    "id": "-hs0i788tbVw",
    "outputId": "54e97d2c-c415-4e7c-9f3f-3e0b4abbac14"
   },
   "outputs": [],
   "source": [
    "# train/fit the model\n",
    "history = model.fit(X_train_scaled, y_train, \n",
    "                    epochs=30,\n",
    "                    batch_size=32,\n",
    "                    validation_split=0.1)"
   ]
  },
  {
   "cell_type": "code",
   "execution_count": null,
   "metadata": {
    "colab": {
     "base_uri": "https://localhost:8080/",
     "height": 282
    },
    "id": "HjI0vX-YuOpH",
    "outputId": "2333da4d-0649-4b61-8c41-a4e89f89c643"
   },
   "outputs": [],
   "source": [
    "# visualize training progress\n",
    "history_df = pd.DataFrame(history.history)\n",
    "history_df[['loss', 'val_loss']].plot(kind='line')"
   ]
  },
  {
   "cell_type": "code",
   "execution_count": null,
   "metadata": {
    "colab": {
     "base_uri": "https://localhost:8080/"
    },
    "id": "ttZ7jNYbtbSf",
    "outputId": "d82984c1-e8e4-47a1-94d7-b96698058d17"
   },
   "outputs": [],
   "source": [
    "# evaluate model\n",
    "predictions = model.predict(X_test_scaled)\n",
    "print('R2:', r2_score(y_test, predictions))\n",
    "print('MSE:', mean_squared_error(y_test, predictions))"
   ]
  },
  {
   "cell_type": "markdown",
   "metadata": {
    "id": "Tm0CYfkDuAjR"
   },
   "source": [
    "## Activation Functions\n",
    "\n",
    "Activation functions are mathematical equations that determine the output of a neural network. The function is attached to each neuron in the network, and determines whether it should be activated (“fired”) or not, based on whether each neuron’s input is relevant for the model’s prediction.\n",
    "\n",
    "An additional aspect of activation functions is that they must be computationally efficient and differentiable. It can be as simple as a step function that turns the neuron output on and off, depending on a rule or threshold. Or it can be a transformation that maps the input signals into output signals that are needed for the neural network to function. The following are some of the widely used activation functions:\n",
    "\n",
    "+ Step\n",
    "+ sigmoid\n",
    "+ tanh\n",
    "+ Rectified Linear Unit or ReLU\n",
    "\n",
    "\n",
    "Some of the recent ones are:\n",
    "+ ELU\n",
    "+ SELU\n",
    "+ Swish\n",
    "+ SoftPlus\n",
    "+ LeakyReLU"
   ]
  },
  {
   "cell_type": "code",
   "execution_count": null,
   "metadata": {
    "colab": {
     "base_uri": "https://localhost:8080/",
     "height": 391
    },
    "id": "Nb0ppLU7tbPz",
    "outputId": "2f84b66a-5d08-4097-cdaf-cbb5d8b82054"
   },
   "outputs": [],
   "source": [
    "z = np.linspace(-5, 5, 200)\n",
    "plt.figure(figsize=(15,6))\n",
    "plt.plot(z, np.sign(z), \"r-\", linewidth=1, label=\"Step\")\n",
    "plt.plot(z, tf.nn.sigmoid(z), \"g--\", linewidth=2, label=\"Sigmoid\")\n",
    "plt.plot(z, tf.nn.tanh(z), \"b-\", linewidth=2, label=\"Tanh\")\n",
    "plt.plot(z, tf.nn.relu(z), \"m-.\", linewidth=2, label=\"ReLU\")\n",
    "plt.grid(True)\n",
    "plt.legend(loc=\"upper left\", fontsize=14)\n",
    "plt.title(\"Activation functions\", fontsize=14)\n",
    "plt.axis([-5, 5, -1.2, 2]);"
   ]
  },
  {
   "cell_type": "code",
   "execution_count": null,
   "metadata": {
    "colab": {
     "base_uri": "https://localhost:8080/",
     "height": 408
    },
    "id": "5gARCIu5tbNQ",
    "outputId": "2797ec01-c3f7-4cf5-e180-8167072381b9"
   },
   "outputs": [],
   "source": [
    "# some more activation functions\n",
    "z = np.linspace(-5, 5, 200)\n",
    "plt.figure(figsize=(15,6))\n",
    "plt.plot(z, np.sign(z), \"r-\", linewidth=1, label=\"Step\")\n",
    "plt.plot(z, tf.nn.elu(z), \"k.\", linewidth=2, label=\"ELU\")\n",
    "plt.plot(z, tf.nn.selu(z), \"c.-\", linewidth=2, label=\"SELU\")\n",
    "plt.plot(z, tf.nn.swish(z), \"y--\", linewidth=2, label=\"Swish\")\n",
    "plt.plot(z, tf.nn.softplus(z), \"r--\", linewidth=2, label=\"Softplus\")\n",
    "plt.plot(z, tf.nn.leaky_relu(z, alpha=0.05), \"m--\", linewidth=2, label=\"Leaky Relu\")\n",
    "\n",
    "plt.grid(True)\n",
    "plt.legend(loc=\"upper left\", fontsize=14)\n",
    "plt.title(\"Activation functions\", fontsize=14)\n",
    "plt.axis([-5, 5, -1.2, 2])"
   ]
  },
  {
   "cell_type": "markdown",
   "metadata": {
    "id": "ExQSOv4cubqg"
   },
   "source": [
    "## Layer Weight Initializers\n",
    "\n",
    "Initializers define the way to set the initial random weights of TensorFlow layers.\n",
    "\n",
    "The keyword arguments used for passing initializers to layers depends on the layer.\n",
    "\n",
    "The following is a list of possible initializers available in the framework"
   ]
  },
  {
   "cell_type": "code",
   "execution_count": null,
   "metadata": {
    "colab": {
     "base_uri": "https://localhost:8080/"
    },
    "id": "Y3hoZ5iHueYL",
    "outputId": "bfc2242e-0377-43c2-a781-7e21500113d2"
   },
   "outputs": [],
   "source": [
    "[name for name in dir(tf.keras.initializers) if not name.startswith(\"_\")]"
   ]
  },
  {
   "cell_type": "code",
   "execution_count": null,
   "metadata": {
    "colab": {
     "base_uri": "https://localhost:8080/",
     "height": 265
    },
    "id": "LdSDSE50umeu",
    "outputId": "9b1f5bea-a20e-42db-a350-3fe3c6ae4836"
   },
   "outputs": [],
   "source": [
    "# uniform\n",
    "input_x = np.array([[1]])\n",
    "dense1 = tf.keras.layers.Dense(100, activation=\"relu\", kernel_initializer=\"uniform\", input_shape=(input_x.shape[0],))\n",
    "y = dense1(input_x)\n",
    "plt.hist(dense1.weights[0][0]);"
   ]
  },
  {
   "cell_type": "code",
   "execution_count": null,
   "metadata": {
    "colab": {
     "base_uri": "https://localhost:8080/",
     "height": 265
    },
    "id": "wUh5dT5CuqKs",
    "outputId": "6640c3d2-3c7d-4e15-c13f-211324cbf1ab"
   },
   "outputs": [],
   "source": [
    "# glorot\n",
    "input_x = np.array([[1]])\n",
    "dense1 = tf.keras.layers.Dense(100, activation=\"relu\", kernel_initializer=\"glorot_uniform\", input_shape=(input_x.shape[0],))\n",
    "y = dense1(input_x)\n",
    "plt.hist(dense1.weights[0][0]);"
   ]
  },
  {
   "cell_type": "markdown",
   "metadata": {
    "id": "1FRBPfYMu9uR"
   },
   "source": [
    "## TF Functional API: \n",
    "Not all neural network models are simply sequential. Some may have complex topologies. Some may have multiple inputs and/or multiple outputs. For example, a Wide & Deep neural network (see [paper](https://ai.google/research/pubs/pub45413)) connects all or part of the inputs directly to the output layer, as shown on the following diagram:\n",
    "\n",
    "\n",
    "![](https://i.imgur.com/B6Y6coM.png)"
   ]
  },
  {
   "cell_type": "markdown",
   "metadata": {
    "id": "Di-qYFBwvN1P"
   },
   "source": [
    "### Build a Wide and Deep NN\n",
    "\n",
    "Use ``keras'`` functional API to implement a Wide & Deep network to tackle the California housing problem.\n",
    "\n",
    "__Tips__:\n",
    "\n",
    "+ You need to create a tf.keras.layers.Input layer to represent the inputs. + + Don't forget to specify the input shape.\n",
    "+ Create the Dense layers, and connect them by using them like functions. For example, ``hidden1 = tf.keras.layers.Dense(30, activation=\"relu\")(input)`` and ``hidden2 = tf.keras.layers.Dense(30, activation=\"relu\")(hidden1)``\n",
    "+ Use the ``tf.keras.layers.concatenate()`` function to concatenate the input layer and the previous hidden layer's output.\n",
    "+ Create a tf.keras.models.Model and specify its inputs and outputs (e.g., ``inputs=[input]``).\n",
    "+ Then use this model just like a Sequential model: you need to compile it, display its summary, train it, evaluate it and use it to make predictions."
   ]
  },
  {
   "cell_type": "code",
   "execution_count": null,
   "metadata": {
    "id": "fE1nHV_buqIF"
   },
   "outputs": [],
   "source": [
    "# define the model\n",
    "input = tf.keras.layers.Input(shape=(X_train.shape[1],))\n",
    "\n",
    "x = tf.keras.layers.Dense(16, activation=\"relu\")(input)\n",
    "x = tf.keras.layers.Dense(32, activation=\"relu\")(x)\n",
    "x = tf.keras.layers.Dense(32, activation=\"relu\")(x)\n",
    "\n",
    "\n",
    "concat = tf.keras.layers.concatenate([input, x])\n",
    "\n",
    "output = tf.keras.layers.Dense(1)(concat)"
   ]
  },
  {
   "cell_type": "code",
   "execution_count": null,
   "metadata": {
    "colab": {
     "base_uri": "https://localhost:8080/"
    },
    "id": "9xi_OJTIuqFb",
    "outputId": "0491d8a5-d485-4037-dc7a-bff1b5a3fe48"
   },
   "outputs": [],
   "source": [
    "# compile the model\n",
    "model = tf.keras.models.Model(inputs=[input], outputs=[output])\n",
    "\n",
    "model.compile(loss=\"mean_squared_error\", \n",
    "              optimizer=tf.keras.optimizers.SGD(1e-3))\n",
    "model.summary()"
   ]
  },
  {
   "cell_type": "code",
   "execution_count": null,
   "metadata": {
    "colab": {
     "base_uri": "https://localhost:8080/",
     "height": 644
    },
    "id": "ZvqIhZuavo_r",
    "outputId": "94fdb9c8-0fa2-4a62-97da-c345c65aa7ff"
   },
   "outputs": [],
   "source": [
    "# visulize the model\n",
    "tf.keras.utils.plot_model(model, show_shapes=True)"
   ]
  },
  {
   "cell_type": "code",
   "execution_count": null,
   "metadata": {
    "colab": {
     "base_uri": "https://localhost:8080/"
    },
    "id": "nj-Z9gNRvo8L",
    "outputId": "b5095793-b83d-409c-dbdf-be9833357404"
   },
   "outputs": [],
   "source": [
    "# train/fit the model\n",
    "history = model.fit(X_train_scaled, y_train, \n",
    "                    epochs=30,\n",
    "                    batch_size=32,\n",
    "                    validation_split=0.1)"
   ]
  },
  {
   "cell_type": "code",
   "execution_count": null,
   "metadata": {
    "colab": {
     "base_uri": "https://localhost:8080/",
     "height": 282
    },
    "id": "l7ye1_cPvo5l",
    "outputId": "ccebf1d4-da1c-45d0-c879-9b31693d35a4"
   },
   "outputs": [],
   "source": [
    "# plot training progress\n",
    "history_df = pd.DataFrame(history.history)\n",
    "history_df[['loss', 'val_loss']].plot(kind='line')"
   ]
  },
  {
   "cell_type": "code",
   "execution_count": null,
   "metadata": {
    "colab": {
     "base_uri": "https://localhost:8080/"
    },
    "id": "uNTy4xWcv2FB",
    "outputId": "7eff8ded-51b3-4cd8-9bca-4c786b716762"
   },
   "outputs": [],
   "source": [
    "# evaluate model\n",
    "predictions = model.predict(X_test_scaled)\n",
    "print('R2:', r2_score(y_test, predictions))\n",
    "print('MSE:', mean_squared_error(y_test, predictions))"
   ]
  },
  {
   "cell_type": "markdown",
   "metadata": {
    "id": "hpCuG5CTweZ6"
   },
   "source": [
    "## TF SubClass API:\n",
    "\n",
    "After the Sequential API and the Functional API, let's try the Subclassing API:\n",
    "\n",
    "+ Create a subclass of the tf.keras.models.Model class.\n",
    "+ Create all the layers you need in the constructor (e.g., ``self.hidden1 = tf.keras.layers.Dense(...))``.\n",
    "+ Use the layers to process the input in the ``call()`` method, and return the output.\n",
    "+ Note that you do not need to create a ``tf.keras.layers.Input`` in this case.\n",
    "+ Also note that ``self.output`` is used by Keras, so you should use another name for the output layer (e.g., ``self.output_layer``).\n",
    "\n",
    "\n",
    "__When should you use the Subclassing API?__\n",
    "\n",
    "+ Both the Sequential API and the Functional API are declarative: you first declare the list of layers you need and how they are connected, and only then can you feed your model with actual data. The models that these APIs build are just static graphs of layers. This has many advantages (easy inspection, debugging, saving, loading, sharing, etc.), and they cover the vast majority of use cases\n",
    "\n",
    "+ If you need to build a very dynamic model (e.g., with loops or conditional branching), or if you want to experiment with new ideas using an imperative programming style, then the Subclassing API is for you. You can pretty much do any computation you want in the call() method, possibly with loops and conditions, using Keras layers of even low-level TensorFlow operations.\n",
    "\n",
    "+ However, this extra flexibility comes at the cost of less transparency. Since the model is defined within the call() method, Keras cannot fully inspect it. All it sees is the list of model attributes (which include the layers you define in the constructor), so when you display the model summary you just see a list of unconnected layers. Consequently, you cannot save or load the model without writing extra code. So this API is best used only when you really need the extra flexibility."
   ]
  },
  {
   "cell_type": "code",
   "execution_count": null,
   "metadata": {
    "id": "dMF-PUeEv2Ct"
   },
   "outputs": [],
   "source": [
    "# define a custom model class\n",
    "class MyRegressionModel(tf.keras.models.Model):\n",
    "\n",
    "    def __init__(self):\n",
    "        super(MyRegressionModel, self).__init__()\n",
    "        self.hidden1 = tf.keras.layers.Dense(16, activation=\"relu\")\n",
    "        self.hidden2 = tf.keras.layers.Dense(32, activation=\"relu\")\n",
    "        self.hidden3 = tf.keras.layers.Dense(32, activation=\"relu\")\n",
    "        self.output_layer = tf.keras.layers.Dense(1)\n",
    "\n",
    "    def call(self, input):\n",
    "        x = self.hidden1(input)\n",
    "        x = self.hidden2(x)\n",
    "        x = self.hidden3(x)\n",
    "        concat = tf.keras.layers.concatenate([input, x])\n",
    "        output = self.output_layer(concat)\n",
    "        return output"
   ]
  },
  {
   "cell_type": "code",
   "execution_count": null,
   "metadata": {
    "id": "--uQXiM3v2AK"
   },
   "outputs": [],
   "source": [
    "# instantiate and compile custom model object\n",
    "model = MyRegressionModel()\n",
    "model.compile(loss=\"mean_squared_error\", \n",
    "              optimizer=tf.keras.optimizers.SGD(1e-3))"
   ]
  },
  {
   "cell_type": "code",
   "execution_count": null,
   "metadata": {
    "colab": {
     "base_uri": "https://localhost:8080/"
    },
    "id": "yq1JF9OZxGjg",
    "outputId": "72591302-db0b-4df2-cf0c-cd64972c94c1"
   },
   "outputs": [],
   "source": [
    "# train/fit the model\n",
    "history = model.fit(X_train_scaled, y_train, \n",
    "                    epochs=30,\n",
    "                    batch_size=32,\n",
    "                    validation_split=0.1)"
   ]
  },
  {
   "cell_type": "code",
   "execution_count": null,
   "metadata": {
    "colab": {
     "base_uri": "https://localhost:8080/",
     "height": 282
    },
    "id": "F4daEYoMxKg-",
    "outputId": "43dc8394-bd40-45fd-8773-4f328ab43706"
   },
   "outputs": [],
   "source": [
    "# plot training progress\n",
    "history_df = pd.DataFrame(history.history)\n",
    "history_df[['loss', 'val_loss']].plot(kind='line')"
   ]
  },
  {
   "cell_type": "code",
   "execution_count": null,
   "metadata": {
    "colab": {
     "base_uri": "https://localhost:8080/"
    },
    "id": "cYxRtvU-xNjV",
    "outputId": "46f96162-2df4-4992-c1f3-6debd2d13d00"
   },
   "outputs": [],
   "source": [
    "# evaluate model performance\n",
    "predictions = model.predict(X_test_scaled)\n",
    "print('R2:', r2_score(y_test, predictions))\n",
    "print('MSE:', mean_squared_error(y_test, predictions))"
   ]
  },
  {
   "cell_type": "markdown",
   "metadata": {
    "id": "sC5OrSGGx35x"
   },
   "source": [
    "\n",
    "\n",
    "---\n",
    "\n"
   ]
  },
  {
   "cell_type": "markdown",
   "metadata": {
    "id": "JNLaa7Ju3C-j"
   },
   "source": [
    "## Gradient Descent & Autodiff with GradientTape"
   ]
  },
  {
   "cell_type": "markdown",
   "metadata": {
    "id": "1qH1Cl_a3eH_"
   },
   "source": [
    "### Implement Gradient Descent manually \n",
    "\n",
    "Find the value of x that minimizes the following function f(x).\n",
    "\n"
   ]
  },
  {
   "cell_type": "code",
   "execution_count": null,
   "metadata": {
    "id": "th6T9ySdr6S3"
   },
   "outputs": [],
   "source": [
    "def f(x):\n",
    "    return 5. * x ** 2 + 3. * x + 1."
   ]
  },
  {
   "cell_type": "code",
   "execution_count": null,
   "metadata": {
    "colab": {
     "base_uri": "https://localhost:8080/"
    },
    "id": "wd_XcD31szPV",
    "outputId": "c62d6edb-93ee-4c59-dac8-6e1e044e1d71"
   },
   "outputs": [],
   "source": [
    "f(1)"
   ]
  },
  {
   "cell_type": "code",
   "execution_count": null,
   "metadata": {
    "id": "t3uyAKm8s0Ko"
   },
   "outputs": [],
   "source": [
    "def approximate_diff(f, x, eps=1e-5):\n",
    "    return (f(x + eps) - f(x - eps)) / (2. * eps)"
   ]
  },
  {
   "cell_type": "code",
   "execution_count": null,
   "metadata": {
    "colab": {
     "base_uri": "https://localhost:8080/"
    },
    "id": "HQqBpTMJs4JX",
    "outputId": "5f2272b5-0ad4-4b1f-8351-5fe8cd472bb0"
   },
   "outputs": [],
   "source": [
    "approximate_diff(f, 1) # true derivative = 13"
   ]
  },
  {
   "cell_type": "markdown",
   "metadata": {
    "id": "btpRqeKX3j-L"
   },
   "source": [
    "### Visualize function space"
   ]
  },
  {
   "cell_type": "code",
   "execution_count": null,
   "metadata": {
    "colab": {
     "base_uri": "https://localhost:8080/",
     "height": 287
    },
    "id": "pEkwnvd3s601",
    "outputId": "89419773-0b2f-4c5b-9762-2ea8841507bf"
   },
   "outputs": [],
   "source": [
    "xs = np.linspace(-2, 2, 200)\n",
    "fs = f(xs)\n",
    "x0 = 0.25\n",
    "df_x0 = approximate_diff(f, x0)\n",
    "tangent_x0 = df_x0 * (xs - x0) + f(x0)\n",
    "plt.plot([-2, 2], [0, 0], \"k-\", linewidth=1)\n",
    "plt.plot([0, 0], [-5, 15], \"k-\", linewidth=1)\n",
    "plt.plot(xs, fs)\n",
    "plt.plot(xs, tangent_x0, \"r--\")\n",
    "plt.plot(x0, f(x0), \"ro\")\n",
    "plt.grid(True)\n",
    "plt.xlabel(\"x\", fontsize=14)\n",
    "plt.ylabel(\"f(x)\", fontsize=14, rotation=0)\n",
    "plt.axis([-2, 2, -5, 15]);"
   ]
  },
  {
   "cell_type": "markdown",
   "metadata": {
    "id": "zPVKnTCH4EIH"
   },
   "source": [
    "### Gradient Tape for fast diff"
   ]
  },
  {
   "cell_type": "code",
   "execution_count": null,
   "metadata": {
    "colab": {
     "base_uri": "https://localhost:8080/"
    },
    "id": "SobkFYXdvti0",
    "outputId": "cb5e5377-7559-46e9-8f83-5ea7effca959"
   },
   "outputs": [],
   "source": [
    "x = tf.Variable(1.0)\n",
    "\n",
    "with tf.GradientTape() as tape:\n",
    "    z = f(x)\n",
    "grads = tape.gradient(z, [x])\n",
    "grads"
   ]
  },
  {
   "cell_type": "code",
   "execution_count": null,
   "metadata": {
    "colab": {
     "base_uri": "https://localhost:8080/"
    },
    "id": "uBc9oG_pPE5R",
    "outputId": "214aa3e2-e6a7-45fe-98f6-381052f74d34"
   },
   "outputs": [],
   "source": [
    "x = tf.Variable(0.)\n",
    "\n",
    "with tf.GradientTape() as tape:\n",
    "    z = f(x)\n",
    "grads = tape.gradient(z, [x])\n",
    "grads"
   ]
  },
  {
   "cell_type": "markdown",
   "metadata": {
    "id": "BgEtmUQg4N7O"
   },
   "source": [
    "### Gradient descent with Gradient Tape"
   ]
  },
  {
   "cell_type": "code",
   "execution_count": null,
   "metadata": {
    "id": "WNTgOqiKxYfs"
   },
   "outputs": [],
   "source": [
    "def f(x):\n",
    "    return 5 * x ** 2 + 3 * x + 1."
   ]
  },
  {
   "cell_type": "code",
   "execution_count": null,
   "metadata": {
    "colab": {
     "base_uri": "https://localhost:8080/",
     "height": 287
    },
    "id": "2OwtUVrwMnED",
    "outputId": "27194582-af71-4386-f2f0-152bd8a68707"
   },
   "outputs": [],
   "source": [
    "xs = np.linspace(-2, 2, 200)\n",
    "fs = f(xs)\n",
    "x0 = 0.5\n",
    "df_x0 = approximate_diff(f, x0)\n",
    "tangent_x0 = df_x0 * (xs - x0) + f(x0)\n",
    "plt.plot([-2, 2], [0, 0], \"k-\", linewidth=1)\n",
    "plt.plot([0, 0], [-5, 15], \"k-\", linewidth=1)\n",
    "plt.plot(xs, fs)\n",
    "plt.plot(xs, tangent_x0, \"r--\")\n",
    "plt.plot(x0, f(x0), \"ro\")\n",
    "plt.grid(True)\n",
    "plt.xlabel(\"x\", fontsize=14)\n",
    "plt.ylabel(\"f(x)\", fontsize=14, rotation=0)\n",
    "plt.axis([-2, 2, -5, 15]);"
   ]
  },
  {
   "cell_type": "code",
   "execution_count": null,
   "metadata": {
    "colab": {
     "base_uri": "https://localhost:8080/"
    },
    "id": "dz-BjXzQyc2w",
    "outputId": "86c4cdef-0e12-4def-a1f1-828a7b69225b"
   },
   "outputs": [],
   "source": [
    "learning_rate = 0.1\n",
    "x = tf.Variable(0.)\n",
    "\n",
    "for i, epoch in enumerate(range(10)):\n",
    "    with tf.GradientTape() as tape:\n",
    "        z = f(x)\n",
    "    dz_dx = tape.gradient(z, x)\n",
    "    print('Epoch:', i, 'Grad:', dz_dx.numpy())\n",
    "    x.assign_sub(learning_rate * dz_dx)"
   ]
  },
  {
   "cell_type": "code",
   "execution_count": null,
   "metadata": {
    "colab": {
     "base_uri": "https://localhost:8080/"
    },
    "id": "xYJVp-q0y3jz",
    "outputId": "e90ee52a-0237-46dd-e9a6-75f796e93d59"
   },
   "outputs": [],
   "source": [
    "x.numpy()"
   ]
  },
  {
   "cell_type": "code",
   "execution_count": null,
   "metadata": {
    "colab": {
     "base_uri": "https://localhost:8080/"
    },
    "id": "LVhhitHUy9EY",
    "outputId": "4d1ef228-0686-4ca1-b207-a4522bee3bb2"
   },
   "outputs": [],
   "source": [
    "f(x.numpy())"
   ]
  },
  {
   "cell_type": "code",
   "execution_count": null,
   "metadata": {
    "colab": {
     "base_uri": "https://localhost:8080/",
     "height": 287
    },
    "id": "XtX8DczaR_H8",
    "outputId": "9c763308-1fd3-4025-dc28-5eb0a4ff048c"
   },
   "outputs": [],
   "source": [
    "xs = np.linspace(-2, 2, 200)\n",
    "fs = f(xs)\n",
    "x0 = x.numpy()\n",
    "df_x0 = approximate_diff(f, x0)\n",
    "tangent_x0 = df_x0 * (xs - x0) + f(x0)\n",
    "plt.plot([-2, 2], [0, 0], \"k-\", linewidth=1)\n",
    "plt.plot([0, 0], [-5, 15], \"k-\", linewidth=1)\n",
    "plt.plot(xs, fs)\n",
    "plt.plot(xs, tangent_x0, \"r--\")\n",
    "plt.plot(x0, f(x0), \"ro\")\n",
    "plt.grid(True)\n",
    "plt.xlabel(\"x\", fontsize=14)\n",
    "plt.ylabel(\"f(x)\", fontsize=14, rotation=0)\n",
    "plt.axis([-2, 2, -5, 15]);"
   ]
  },
  {
   "cell_type": "code",
   "execution_count": null,
   "metadata": {
    "colab": {
     "base_uri": "https://localhost:8080/"
    },
    "id": "CQhi7LNjzDqu",
    "outputId": "1c05c22c-d299-448c-a182-7997cc26c282"
   },
   "outputs": [],
   "source": [
    "learning_rate = 0.01\n",
    "x = tf.Variable(0.)\n",
    "\n",
    "for i, epoch in enumerate(range(150)):\n",
    "    with tf.GradientTape() as tape:\n",
    "        z = f(x)\n",
    "    dz_dx = tape.gradient(z, x)\n",
    "    print('Epoch:', i, 'Grad:', dz_dx.numpy())\n",
    "    x.assign_sub(learning_rate * dz_dx)"
   ]
  },
  {
   "cell_type": "code",
   "execution_count": null,
   "metadata": {
    "colab": {
     "base_uri": "https://localhost:8080/"
    },
    "id": "QLT7cNt10BFS",
    "outputId": "3a3cbbf1-1a69-4607-bbc1-68957d4e3f2c"
   },
   "outputs": [],
   "source": [
    "x.numpy()"
   ]
  },
  {
   "cell_type": "code",
   "execution_count": null,
   "metadata": {
    "colab": {
     "base_uri": "https://localhost:8080/"
    },
    "id": "Lb23k-Bi0W-v",
    "outputId": "9ae4d083-1f80-4135-9d3c-467006cb33fd"
   },
   "outputs": [],
   "source": [
    "f(x.numpy())"
   ]
  },
  {
   "cell_type": "code",
   "execution_count": null,
   "metadata": {
    "colab": {
     "base_uri": "https://localhost:8080/"
    },
    "id": "z-1TmqE30h_8",
    "outputId": "38552b19-182a-440e-f6df-1fa459f65907"
   },
   "outputs": [],
   "source": [
    "x = tf.Variable(0.)\n",
    "optimizer = tf.keras.optimizers.SGD(lr=0.01)\n",
    "\n",
    "for iteration in range(150):\n",
    "    with tf.GradientTape() as tape:\n",
    "        z = f(x)\n",
    "    dz_dx = tape.gradient(z, x)\n",
    "    print('Epoch:', i, 'Grad:', dz_dx.numpy())\n",
    "    optimizer.apply_gradients([(dz_dx, x)])"
   ]
  },
  {
   "cell_type": "code",
   "execution_count": null,
   "metadata": {
    "colab": {
     "base_uri": "https://localhost:8080/"
    },
    "id": "A6tZXEci1gPo",
    "outputId": "c61946e8-f75f-44ac-856b-41382bedc055"
   },
   "outputs": [],
   "source": [
    "x.numpy()"
   ]
  },
  {
   "cell_type": "markdown",
   "metadata": {
    "id": "J0C1RQE7xzQ_"
   },
   "source": [
    "### Building a basic Image Classifier using DNN\n",
    "We will keep things simple here with regard to the key objective. We will build a simple apparel classifier by training models on the very famous [Fashion MNIST dataset](https://github.com/zalandoresearch/fashion-mnist) based on Zalando’s article images consisting of a training set of 60,000 examples and a test set of 10,000 examples. Each example is a 28x28 grayscale image, associated with a label from 10 classes. The idea is to classify these images into an apparel category amongst 10 categories on which we will be training our models on.\n",
    "\n",
    "Here's an example how the data looks (each class takes three-rows):\n",
    "\n",
    "<img src=\"https://s3-eu-central-1.amazonaws.com/zalando-wp-zalando-research-production/2017/08/fashion-mnist-sprite.png\">\n",
    "<i>Source:https://research.zalando.com/welcome/mission/research-projects/fashion-mnist/</i>\n",
    "\n",
    "Fashion MNIST is intended as a drop-in replacement for the classic [MNIST dataset](http://yann.lecun.com/exdb/mnist/) often used as the \"Hello, World\" of machine learning programs for computer vision. You can access the Fashion MNIST directly from TensorFlow.\n",
    "\n",
    "__Note__: Although these are really images, they are loaded as NumPy arrays and not binary image objects."
   ]
  },
  {
   "cell_type": "code",
   "execution_count": null,
   "metadata": {
    "colab": {
     "base_uri": "https://localhost:8080/"
    },
    "id": "AcnnZE42yGFi",
    "outputId": "e4dd1cef-2298-4935-de7a-60de4af95de4"
   },
   "outputs": [],
   "source": [
    "# get the dataset\n",
    "fashion_mnist = tf.keras.datasets.fashion_mnist\n",
    "(X_train, y_train), (X_test, y_test) = fashion_mnist.load_data()\n",
    "\n",
    "X_train.shape, X_test.shape"
   ]
  },
  {
   "cell_type": "code",
   "execution_count": null,
   "metadata": {
    "id": "Hnd2WR_YzUhI"
   },
   "outputs": [],
   "source": [
    "# scale pixel densities\n",
    "X_train = X_train / 255.\n",
    "X_test = X_test / 255."
   ]
  },
  {
   "cell_type": "code",
   "execution_count": null,
   "metadata": {
    "colab": {
     "base_uri": "https://localhost:8080/",
     "height": 265
    },
    "id": "e9rBGD2AzUd2",
    "outputId": "ca1d86d4-e794-4fe6-a488-90cdb1f4405b"
   },
   "outputs": [],
   "source": [
    "# visualize a sample datapoint\n",
    "plt.imshow(X_train[0], cmap=\"binary\");"
   ]
  },
  {
   "cell_type": "code",
   "execution_count": null,
   "metadata": {
    "id": "XINNE0PdzcPq"
   },
   "outputs": [],
   "source": [
    "# humanise class labels\n",
    "class_names = [\"T-shirt/top\", \"Trouser\", \"Pullover\", \"Dress\", \"Coat\",\n",
    "               \"Sandal\", \"Shirt\", \"Sneaker\", \"Bag\", \"Ankle boot\"]"
   ]
  },
  {
   "cell_type": "code",
   "execution_count": null,
   "metadata": {
    "colab": {
     "base_uri": "https://localhost:8080/",
     "height": 308
    },
    "id": "Ps955fYdziRs",
    "outputId": "127dc8dc-bd56-4405-9dc9-49d157c9c057"
   },
   "outputs": [],
   "source": [
    "# plot a few examples\n",
    "n_rows = 4\n",
    "n_cols = 10\n",
    "plt.figure(figsize=(n_cols * 1.2, n_rows * 1.2))\n",
    "for row in range(n_rows):\n",
    "    for col in range(n_cols):\n",
    "        index = n_cols * row + col\n",
    "        plt.subplot(n_rows, n_cols, index + 1)\n",
    "        plt.imshow(X_train[index], cmap=\"binary\", interpolation=\"nearest\")\n",
    "        plt.axis('off')\n",
    "        plt.title(class_names[y_train[index]], fontsize=12)\n",
    "plt.subplots_adjust(wspace=0.2, hspace=0.5);"
   ]
  },
  {
   "cell_type": "code",
   "execution_count": null,
   "metadata": {
    "id": "gDTggKuTznTy"
   },
   "outputs": [],
   "source": [
    "# set seeds for reproducibility\n",
    "np.random.seed(42)\n",
    "tf.random.set_seed(42)"
   ]
  },
  {
   "cell_type": "markdown",
   "metadata": {
    "id": "WVrBUqfazu4T"
   },
   "source": [
    "## Build a 2 Layer DNN\n",
    "\n",
    "Build a Sequential model (``tf.keras.models.Sequential``) and add four layers to it:\n",
    "\n",
    "+ a Flatten layer (``tf.keras.layers.Flatten``) to convert each $28x28$ image to a single row of $784$ pixel values. Since it is the first layer in your model, you should specify the input_shape argument, leaving out the batch size: $[28, 28]$.\n",
    "+ a Dense layer (``tf.keras.layers.Dense``) with $300$ neurons (aka units), and the __\"relu\"__ activation function.\n",
    "+ Another Dense layer with $100$ neurons, also with the __\"relu\"__ activation function.\n",
    "+ A final Dense layer with $10$ neurons (one per class), and with the __\"softmax\"__ activation function to ensure that the sum of all the estimated class probabilities for each image is equal to $1$."
   ]
  },
  {
   "cell_type": "code",
   "execution_count": null,
   "metadata": {
    "id": "o4Sh4TjDznRb"
   },
   "outputs": [],
   "source": [
    "model = tf.keras.models.Sequential([\n",
    "    tf.keras.layers.Flatten(input_shape=[28, 28]),\n",
    "    tf.keras.layers.Dense(300, activation='relu'),\n",
    "    tf.keras.layers.Dense(100, activation='relu'),\n",
    "    tf.keras.layers.Dense(10, activation=\"softmax\")\n",
    "                                    \n",
    "])"
   ]
  },
  {
   "cell_type": "code",
   "execution_count": null,
   "metadata": {
    "colab": {
     "base_uri": "https://localhost:8080/"
    },
    "id": "wi1Q__aUznO5",
    "outputId": "1354b8ca-913e-480d-cb5d-faa14ae80eca"
   },
   "outputs": [],
   "source": [
    "# compile the model\n",
    "model.compile(loss=\"sparse_categorical_crossentropy\", \n",
    "              optimizer=tf.keras.optimizers.SGD(1e-3),\n",
    "              metrics=[\"accuracy\"])\n",
    "model.summary()"
   ]
  },
  {
   "cell_type": "code",
   "execution_count": null,
   "metadata": {
    "colab": {
     "base_uri": "https://localhost:8080/"
    },
    "id": "7WyixI1UznMP",
    "outputId": "45ba162f-20b5-4b0b-a2ec-95ebbf0b2620"
   },
   "outputs": [],
   "source": [
    "# train/fit the model\n",
    "history = model.fit(X_train, y_train, \n",
    "                    epochs=20,\n",
    "                    batch_size=32,\n",
    "                    validation_split=0.1)"
   ]
  },
  {
   "cell_type": "code",
   "execution_count": null,
   "metadata": {
    "colab": {
     "base_uri": "https://localhost:8080/",
     "height": 324
    },
    "id": "02eVB55g0Uq0",
    "outputId": "80c4f095-5933-41e7-a3f3-39fb1e5f6749"
   },
   "outputs": [],
   "source": [
    "# plot training progress\n",
    "pd.DataFrame(history.history).plot(figsize=(8, 5))\n",
    "plt.grid(True)\n",
    "plt.gca().set_ylim(0.3, 1);"
   ]
  },
  {
   "cell_type": "code",
   "execution_count": null,
   "metadata": {
    "id": "l1na4vAM0ZEC"
   },
   "outputs": [],
   "source": [
    "# get predictions\n",
    "y_pred = model.predict(X_test)"
   ]
  },
  {
   "cell_type": "markdown",
   "metadata": {
    "id": "WNxZZ0as0gi0"
   },
   "source": [
    "Often, you may only be interested in the most likely class.\n",
    "\n",
    "Use ``np.argmax()`` to get the class ID of the most likely class for each instance. Tip: you want to set ``axis=1``."
   ]
  },
  {
   "cell_type": "code",
   "execution_count": null,
   "metadata": {
    "id": "o98awvXn0ZBi"
   },
   "outputs": [],
   "source": [
    "y_pred = y_pred.argmax(axis=1)"
   ]
  },
  {
   "cell_type": "code",
   "execution_count": null,
   "metadata": {
    "colab": {
     "base_uri": "https://localhost:8080/"
    },
    "id": "jJ98Xyfu0fR9",
    "outputId": "e8c39214-0a05-488b-bd1c-7cfbd44f814d"
   },
   "outputs": [],
   "source": [
    "# evaluate model\n",
    "from sklearn.metrics import classification_report\n",
    "\n",
    "print(classification_report(y_test, y_pred,\n",
    "      target_names=class_names))"
   ]
  },
  {
   "cell_type": "markdown",
   "metadata": {
    "id": "wGLoHmrM084a"
   },
   "source": [
    "## Batch Normalization\n",
    "\n",
    "Batch normalization is a technique for training deep neural networks that standardizes the inputs for each mini-batch before going into a layer. This has the effect of stabilizing the learning process and preventing overfitting.\n",
    "\n",
    "+ Fixed distributions of inputs would remove the ill effects of the internal covariate shift (change in the distributions of neurons when training) [https://arxiv.org/abs/1502.03167]\n",
    "\n",
    "+ Batch normalization acts to standardize only the mean and variance of each unit in order to stabilize learning [https://amzn.to/2NJW3gE]"
   ]
  },
  {
   "cell_type": "markdown",
   "metadata": {
    "id": "6jjjYij61E80"
   },
   "source": [
    "## Build a model with Batch-Normalization"
   ]
  },
  {
   "cell_type": "code",
   "execution_count": null,
   "metadata": {
    "id": "2B-kS-s00YkK"
   },
   "outputs": [],
   "source": [
    "model = tf.keras.models.Sequential([            \n",
    "    tf.keras.layers.Flatten(input_shape=[28, 28]),\n",
    "    # batch-norm layer\n",
    "    tf.keras.layers.BatchNormalization(),\n",
    "    tf.keras.layers.Dense(300, \n",
    "                          activation='relu'),\n",
    "    # batch-norm layer\n",
    "    tf.keras.layers.BatchNormalization(),\n",
    "    tf.keras.layers.Dense(100, \n",
    "                          activation='relu'),\n",
    "    # batch-norm layer\n",
    "    tf.keras.layers.BatchNormalization(),\n",
    "    tf.keras.layers.Dense(10, activation=\"softmax\")\n",
    "])"
   ]
  },
  {
   "cell_type": "code",
   "execution_count": null,
   "metadata": {
    "colab": {
     "base_uri": "https://localhost:8080/"
    },
    "id": "i-oVD9v51W5m",
    "outputId": "35a52645-5788-47a2-8707-d6ac2ff57f90"
   },
   "outputs": [],
   "source": [
    "# compile model\n",
    "model.compile(loss=\"sparse_categorical_crossentropy\", \n",
    "              optimizer=tf.keras.optimizers.SGD(1e-3),\n",
    "              metrics=[\"accuracy\"])\n",
    "model.summary()"
   ]
  },
  {
   "cell_type": "code",
   "execution_count": null,
   "metadata": {
    "colab": {
     "base_uri": "https://localhost:8080/"
    },
    "id": "0htsJ04w1W3H",
    "outputId": "7f008aa6-1487-4282-eda8-a3996fdd9e4a"
   },
   "outputs": [],
   "source": [
    "# fit/train the model\n",
    "history = model.fit(X_train, y_train, epochs=20,\n",
    "                    validation_split=0.1)"
   ]
  },
  {
   "cell_type": "code",
   "execution_count": null,
   "metadata": {
    "colab": {
     "base_uri": "https://localhost:8080/",
     "height": 324
    },
    "id": "qMXDRp661W0x",
    "outputId": "c1588cfa-7681-4981-8749-6989da145780"
   },
   "outputs": [],
   "source": [
    "# visualize training progress\n",
    "pd.DataFrame(history.history).plot(figsize=(8, 5))\n",
    "plt.grid(True)\n",
    "plt.gca().set_ylim(0.3, 1);"
   ]
  },
  {
   "cell_type": "code",
   "execution_count": null,
   "metadata": {
    "colab": {
     "base_uri": "https://localhost:8080/"
    },
    "id": "Iy6QsZ801iUw",
    "outputId": "a9491555-2a6f-4a66-d075-7fd56c26ad3e"
   },
   "outputs": [],
   "source": [
    "# evaluate model performance\n",
    "y_pred = model.predict(X_test)\n",
    "y_pred = y_pred.argmax(axis=1)\n",
    "print(classification_report(y_test, y_pred,\n",
    "      target_names=class_names))"
   ]
  },
  {
   "cell_type": "markdown",
   "metadata": {
    "id": "VqTr12VU1smJ"
   },
   "source": [
    "### Changing the position of Batchnorm\n",
    "Sometimes applying BN before the activation function works better (there's a debate on this topic). Moreover, the layer before a BatchNormalization layer does not need to have bias terms, since the BatchNormalization layer already includes it, hence it would be a waste of parameters, so you can set ``use_bias=False`` when creating those layers\n",
    "\n",
    "Source: https://www.google.co.in/books/edition/Hands_On_Machine_Learning_with_Scikit_Le/bRpYDgAAQBAJ"
   ]
  },
  {
   "cell_type": "markdown",
   "metadata": {
    "id": "2-lbtXyn18qe"
   },
   "source": [
    "## Dropout\n",
    "\n",
    "DNNs have a large number of parameters. However, overfitting is a serious problem in such networks. Large networks are also slow to train and use, making it difficult to deal with overfitting by combining the predictions of many different large neural nets at test time. Dropout is a technique to randomly drop units (along with their connections) from the neural network during training. This prevents units from co-adapting too much. \n",
    "\n",
    "Refer to the paper from Hinton et. al. discussing this in detail: [paper](https://jmlr.org/papers/v15/srivastava14a.html)"
   ]
  },
  {
   "cell_type": "code",
   "execution_count": null,
   "metadata": {
    "colab": {
     "base_uri": "https://localhost:8080/"
    },
    "id": "8XVPZsat1iSF",
    "outputId": "deeaf9a5-20a9-4351-cef2-5909b6b7d40f"
   },
   "outputs": [],
   "source": [
    "# define model\n",
    "model = tf.keras.models.Sequential([\n",
    "    tf.keras.layers.Flatten(input_shape=[28, 28]),\n",
    "    tf.keras.layers.Dropout(rate=0.2),\n",
    "    tf.keras.layers.Dense(300, activation=\"elu\", kernel_initializer=\"glorot_uniform\"),\n",
    "    tf.keras.layers.Dropout(rate=0.2),\n",
    "    tf.keras.layers.Dense(100, activation=\"elu\", kernel_initializer=\"glorot_uniform\"),\n",
    "    tf.keras.layers.Dropout(rate=0.2),\n",
    "    tf.keras.layers.Dense(10, activation=\"softmax\")\n",
    "])\n",
    "\n",
    "# compile model\n",
    "model.compile(loss=\"sparse_categorical_crossentropy\", \n",
    "              optimizer=\"adam\", metrics=[\"accuracy\"])\n",
    "\n",
    "\n",
    "# train the model\n",
    "history = model.fit(X_train, y_train, epochs=20,\n",
    "                    validation_split=0.1)"
   ]
  },
  {
   "cell_type": "code",
   "execution_count": null,
   "metadata": {
    "colab": {
     "base_uri": "https://localhost:8080/"
    },
    "id": "IF2nZk9a2LRx",
    "outputId": "07a2747f-e400-4043-b702-02e6c47dac74"
   },
   "outputs": [],
   "source": [
    "# evaluate model\n",
    "y_pred = model.predict(X_test)\n",
    "y_pred = y_pred.argmax(axis=1)\n",
    "print(classification_report(y_test, y_pred,\n",
    "      target_names=class_names))"
   ]
  }
 ],
 "metadata": {
  "accelerator": "GPU",
  "colab": {
   "collapsed_sections": [],
   "name": "Tutorial 01 - Deep Learning Essentials with TensorFlow.ipynb",
   "provenance": [],
   "toc_visible": true
  },
  "kernelspec": {
   "display_name": "Python 3",
   "language": "python",
   "name": "python3"
  },
  "language_info": {
   "codemirror_mode": {
    "name": "ipython",
    "version": 3
   },
   "file_extension": ".py",
   "mimetype": "text/x-python",
   "name": "python",
   "nbconvert_exporter": "python",
   "pygments_lexer": "ipython3",
   "version": "3.8.5"
  }
 },
 "nbformat": 4,
 "nbformat_minor": 1
}
